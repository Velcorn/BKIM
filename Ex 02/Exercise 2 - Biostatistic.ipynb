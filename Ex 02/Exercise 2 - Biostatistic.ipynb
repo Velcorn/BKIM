{
 "nbformat": 4,
 "nbformat_minor": 0,
 "metadata": {
  "colab": {
   "provenance": [],
   "collapsed_sections": []
  },
  "kernelspec": {
   "name": "python3",
   "display_name": "Python 3"
  },
  "language_info": {
   "name": "python"
  }
 },
 "cells": [
  {
   "cell_type": "markdown",
   "source": [
    "#Prequisites\n",
    "In this exercise we use R and Python for data simulation and processing. Please install Python and scikit-learn for this exercise.\n",
    "\n",
    "Enable in-line plotting for notebooks\n",
    "%matplotlib inline\n",
    "\n",
    "## Data\n",
    "\n",
    "For this exercise we simulate Single Cell RNA sequence data using [Splatter package in R](https://genomebiology.biomedcentral.com/articles/10.1186/s13059-017-1305-0) which is publically available. \n",
    "\n",
    "First, one need to start `rmagic` by executing this in a cell:\n",
    "\n",
    "%load_ext rpy2.ipython\n",
    "\n",
    "Then, use `%%R` to execute cell magic. Use this if you want all syntax in a cell to be executed in R. Note that this must be placed at the beginning of the cell."
   ],
   "metadata": {
    "id": "oBdrxX7fIvPL",
    "pycharm": {
     "name": "#%% md\n"
    }
   }
  },
  {
   "cell_type": "code",
   "source": [
    "import os\n",
    "os.environ['R_HOME'] = r'C:\\Program Files\\R\\R-4.2.2'\n",
    "%load_ext rpy2.ipython"
   ],
   "metadata": {
    "id": "t5lCZCJsnhZX",
    "pycharm": {
     "name": "#%%\n"
    }
   },
   "execution_count": 2,
   "outputs": [
    {
     "name": "stderr",
     "output_type": "stream",
     "text": [
      "D:\\Programming\\BKIM\\venv\\lib\\site-packages\\rpy2\\robjects\\packages.py:368: UserWarning: The symbol 'quartz' is not in this R namespace/package.\n",
      "  \"The symbol '%s' is not in this R namespace/package.\" % name\n"
     ]
    }
   ]
  },
  {
   "cell_type": "markdown",
   "source": [
    "install bioconductor.\n",
    "This may take some time!"
   ],
   "metadata": {
    "id": "IAdoQISxrRpp",
    "pycharm": {
     "name": "#%% md\n"
    }
   }
  },
  {
   "cell_type": "code",
   "source": [
    "%%R\n",
    "if (!require(\"BiocManager\", quietly = TRUE))\n",
    "    install.packages(\"BiocManager\")\n",
    "BiocManager::install(version = \"3.15\")"
   ],
   "metadata": {
    "id": "uP2cwOtI-wbp",
    "pycharm": {
     "name": "#%%\n"
    }
   },
   "execution_count": 3,
   "outputs": [
    {
     "name": "stderr",
     "output_type": "stream",
     "text": [
      "R[write to console]: Bioconductor version 3.15 (BiocManager 1.30.19), R 4.2.2 (2022-10-31 ucrt)\n",
      "\n",
      "R[write to console]: Bioconductor version '3.15' is out-of-date; the current release version '3.16'\n",
      "  is available with R version '4.2'; see https://bioconductor.org/install\n",
      "\n",
      "R[write to console]: Bioconductor version 3.15 (BiocManager 1.30.19), R 4.2.2 (2022-10-31 ucrt)\n",
      "\n"
     ]
    }
   ]
  },
  {
   "cell_type": "markdown",
   "source": [
    "install splatter"
   ],
   "metadata": {
    "id": "gXGs3IGrrZV5",
    "pycharm": {
     "name": "#%% md\n"
    }
   }
  },
  {
   "cell_type": "code",
   "source": [
    "%%R\n",
    "BiocManager::install(\"splatter\", verbose=FALSE)"
   ],
   "metadata": {
    "id": "taVI9fMSpbi0",
    "pycharm": {
     "name": "#%%\n"
    }
   },
   "execution_count": 4,
   "outputs": [
    {
     "name": "stderr",
     "output_type": "stream",
     "text": [
      "R[write to console]: Bioconductor version 3.15 (BiocManager 1.30.19), R 4.2.2 (2022-10-31 ucrt)\n",
      "\n"
     ]
    }
   ]
  },
  {
   "cell_type": "markdown",
   "source": [
    "##1) Simulate 5000 samples with 2000 genes with following parameters\n",
    "###1.1) Simulate samples from two different groups (cell types) with mean of 0.6 and drop out probability of 0.3 and 0.6"
   ],
   "metadata": {
    "id": "5TW5ifb3KJDI",
    "pycharm": {
     "name": "#%% md\n"
    }
   }
  },
  {
   "cell_type": "code",
   "execution_count": 5,
   "outputs": [
    {
     "name": "stderr",
     "output_type": "stream",
     "text": [
      "R[write to console]: Loading required package: SingleCellExperiment\n",
      "\n",
      "R[write to console]: Loading required package: SummarizedExperiment\n",
      "\n",
      "R[write to console]: Loading required package: MatrixGenerics\n",
      "\n",
      "R[write to console]: Loading required package: matrixStats\n",
      "\n",
      "R[write to console]: \n",
      "Attaching package: 'MatrixGenerics'\n",
      "\n",
      "\n",
      "R[write to console]: The following objects are masked from 'package:matrixStats':\n",
      "\n",
      "    colAlls, colAnyNAs, colAnys, colAvgsPerRowSet, colCollapse,\n",
      "    colCounts, colCummaxs, colCummins, colCumprods, colCumsums,\n",
      "    colDiffs, colIQRDiffs, colIQRs, colLogSumExps, colMadDiffs,\n",
      "    colMads, colMaxs, colMeans2, colMedians, colMins, colOrderStats,\n",
      "    colProds, colQuantiles, colRanges, colRanks, colSdDiffs, colSds,\n",
      "    colSums2, colTabulates, colVarDiffs, colVars, colWeightedMads,\n",
      "    colWeightedMeans, colWeightedMedians, colWeightedSds,\n",
      "    colWeightedVars, rowAlls, rowAnyNAs, rowAnys, rowAvgsPerColSet,\n",
      "    rowCollapse, rowCounts, rowCummaxs, rowCummins, rowCumprods,\n",
      "    rowCumsums, rowDiffs, rowIQRDiffs, rowIQRs, rowLogSumExps,\n",
      "    rowMadDiffs, rowMads, rowMaxs, rowMeans2, rowMedians, rowMins,\n",
      "    rowOrderStats, rowProds, rowQuantiles, rowRanges, rowRanks,\n",
      "    rowSdDiffs, rowSds, rowSums2, rowTabulates, rowVarDiffs, rowVars,\n",
      "    rowWeightedMads, rowWeightedMeans, rowWeightedMedians,\n",
      "    rowWeightedSds, rowWeightedVars\n",
      "\n",
      "\n",
      "R[write to console]: Loading required package: GenomicRanges\n",
      "\n",
      "R[write to console]: Loading required package: stats4\n",
      "\n",
      "R[write to console]: Loading required package: BiocGenerics\n",
      "\n",
      "R[write to console]: \n",
      "Attaching package: 'BiocGenerics'\n",
      "\n",
      "\n",
      "R[write to console]: The following objects are masked from 'package:stats':\n",
      "\n",
      "    IQR, mad, sd, var, xtabs\n",
      "\n",
      "\n",
      "R[write to console]: The following objects are masked from 'package:base':\n",
      "\n",
      "    anyDuplicated, append, as.data.frame, basename, cbind, colnames,\n",
      "    dirname, do.call, duplicated, eval, evalq, Filter, Find, get, grep,\n",
      "    grepl, intersect, is.unsorted, lapply, Map, mapply, match, mget,\n",
      "    order, paste, pmax, pmax.int, pmin, pmin.int, Position, rank,\n",
      "    rbind, Reduce, rownames, sapply, setdiff, sort, table, tapply,\n",
      "    union, unique, unsplit, which.max, which.min\n",
      "\n",
      "\n",
      "R[write to console]: Loading required package: S4Vectors\n",
      "\n",
      "R[write to console]: \n",
      "Attaching package: 'S4Vectors'\n",
      "\n",
      "\n",
      "R[write to console]: The following objects are masked from 'package:base':\n",
      "\n",
      "    expand.grid, I, unname\n",
      "\n",
      "\n",
      "R[write to console]: Loading required package: IRanges\n",
      "\n",
      "R[write to console]: \n",
      "Attaching package: 'IRanges'\n",
      "\n",
      "\n",
      "R[write to console]: The following object is masked from 'package:grDevices':\n",
      "\n",
      "    windows\n",
      "\n",
      "\n",
      "R[write to console]: Loading required package: GenomeInfoDb\n",
      "\n",
      "R[write to console]: Loading required package: Biobase\n",
      "\n",
      "R[write to console]: Welcome to Bioconductor\n",
      "\n",
      "    Vignettes contain introductory material; view with\n",
      "    'browseVignettes()'. To cite Bioconductor, see\n",
      "    'citation(\"Biobase\")', and for packages 'citation(\"pkgname\")'.\n",
      "\n",
      "\n",
      "R[write to console]: \n",
      "Attaching package: 'Biobase'\n",
      "\n",
      "\n",
      "R[write to console]: The following object is masked from 'package:MatrixGenerics':\n",
      "\n",
      "    rowMedians\n",
      "\n",
      "\n",
      "R[write to console]: The following objects are masked from 'package:matrixStats':\n",
      "\n",
      "    anyMissing, rowMedians\n",
      "\n",
      "\n",
      "R[write to console]: Getting parameters...\n",
      "\n",
      "R[write to console]: Creating simulation object...\n",
      "\n",
      "R[write to console]: Simulating library sizes...\n",
      "\n",
      "R[write to console]: Simulating gene means...\n",
      "\n",
      "R[write to console]: Simulating BCV...\n",
      "\n",
      "R[write to console]: Simulating counts...\n",
      "\n",
      "R[write to console]: Simulating dropout (if needed)...\n",
      "\n",
      "R[write to console]: Sparsifying assays...\n",
      "\n",
      "R[write to console]: Automatically converting to sparse matrices, threshold = 0.95\n",
      "\n",
      "R[write to console]: Skipping 'BatchCellMeans': estimated sparse size 1.5 * dense matrix\n",
      "\n",
      "R[write to console]: Skipping 'BaseCellMeans': estimated sparse size 1.5 * dense matrix\n",
      "\n",
      "R[write to console]: Skipping 'BCV': estimated sparse size 1.5 * dense matrix\n",
      "\n",
      "R[write to console]: Skipping 'CellMeans': estimated sparse size 1.49 * dense matrix\n",
      "\n",
      "R[write to console]: Skipping 'TrueCounts': estimated sparse size 2.2 * dense matrix\n",
      "\n",
      "R[write to console]: Skipping 'counts': estimated sparse size 2.2 * dense matrix\n",
      "\n",
      "R[write to console]: Done!\n",
      "\n"
     ]
    }
   ],
   "source": [
    "%%R\n",
    "library(splatter)\n",
    "set.seed(42)\n",
    "sim <- splatSimulate(nGenes=2000, batchCells=2500, out.prob=0.5, mean.rate=c(0.6), method='groups', verbose=TRUE)\n"
   ],
   "metadata": {
    "collapsed": false,
    "pycharm": {
     "name": "#%%R\n"
    }
   }
  },
  {
   "cell_type": "code",
   "execution_count": 5,
   "outputs": [],
   "source": [],
   "metadata": {
    "collapsed": false,
    "pycharm": {
     "name": "#%%\n"
    }
   }
  },
  {
   "cell_type": "markdown",
   "source": [
    "###1.2) Plot heatmap of the normalized samples with different dropout rates to depict the dropout effect."
   ],
   "metadata": {
    "collapsed": false,
    "pycharm": {
     "name": "#%% md\n"
    }
   }
  },
  {
   "cell_type": "code",
   "execution_count": 9,
   "outputs": [
    {
     "name": "stderr",
     "output_type": "stream",
     "text": [
      "R[write to console]: Error in plotHeatmap(sim) : could not find function \"plotHeatmap\"\n",
      "\n"
     ]
    },
    {
     "name": "stdout",
     "output_type": "stream",
     "text": [
      "\n",
      "Error in plotHeatmap(sim) : could not find function \"plotHeatmap\"\n"
     ]
    },
    {
     "ename": "RInterpreterError",
     "evalue": "Failed to parse and evaluate line 'library(splatter)\\nplotHeatmap(sim)\\n'.\nR error message: 'Error in plotHeatmap(sim) : could not find function \"plotHeatmap\"'",
     "output_type": "error",
     "traceback": [
      "\u001B[1;31m---------------------------------------------------------------------------\u001B[0m",
      "\u001B[1;31mRRuntimeError\u001B[0m                             Traceback (most recent call last)",
      "\u001B[1;32mD:\\Programming\\BKIM\\venv\\lib\\site-packages\\rpy2\\ipython\\rmagic.py\u001B[0m in \u001B[0;36meval\u001B[1;34m(self, code)\u001B[0m\n\u001B[0;32m    330\u001B[0m                 \u001B[1;31m# Need the newline in case the last line in code is a comment.\u001B[0m\u001B[1;33m\u001B[0m\u001B[1;33m\u001B[0m\u001B[1;33m\u001B[0m\u001B[0m\n\u001B[1;32m--> 331\u001B[1;33m                 \u001B[0mvalue\u001B[0m\u001B[1;33m,\u001B[0m \u001B[0mvisible\u001B[0m \u001B[1;33m=\u001B[0m \u001B[0mro\u001B[0m\u001B[1;33m.\u001B[0m\u001B[0mr\u001B[0m\u001B[1;33m(\u001B[0m\u001B[1;34m\"withVisible({%s\\n})\"\u001B[0m \u001B[1;33m%\u001B[0m \u001B[0mcode\u001B[0m\u001B[1;33m)\u001B[0m\u001B[1;33m\u001B[0m\u001B[1;33m\u001B[0m\u001B[0m\n\u001B[0m\u001B[0;32m    332\u001B[0m             \u001B[1;32mexcept\u001B[0m \u001B[1;33m(\u001B[0m\u001B[0mri\u001B[0m\u001B[1;33m.\u001B[0m\u001B[0membedded\u001B[0m\u001B[1;33m.\u001B[0m\u001B[0mRRuntimeError\u001B[0m\u001B[1;33m,\u001B[0m \u001B[0mValueError\u001B[0m\u001B[1;33m)\u001B[0m \u001B[1;32mas\u001B[0m \u001B[0mexception\u001B[0m\u001B[1;33m:\u001B[0m\u001B[1;33m\u001B[0m\u001B[1;33m\u001B[0m\u001B[0m\n",
      "\u001B[1;32mD:\\Programming\\BKIM\\venv\\lib\\site-packages\\rpy2\\robjects\\__init__.py\u001B[0m in \u001B[0;36m__call__\u001B[1;34m(self, string)\u001B[0m\n\u001B[0;32m    458\u001B[0m         \u001B[0mp\u001B[0m \u001B[1;33m=\u001B[0m \u001B[0mrinterface\u001B[0m\u001B[1;33m.\u001B[0m\u001B[0mparse\u001B[0m\u001B[1;33m(\u001B[0m\u001B[0mstring\u001B[0m\u001B[1;33m)\u001B[0m\u001B[1;33m\u001B[0m\u001B[1;33m\u001B[0m\u001B[0m\n\u001B[1;32m--> 459\u001B[1;33m         \u001B[0mres\u001B[0m \u001B[1;33m=\u001B[0m \u001B[0mself\u001B[0m\u001B[1;33m.\u001B[0m\u001B[0meval\u001B[0m\u001B[1;33m(\u001B[0m\u001B[0mp\u001B[0m\u001B[1;33m)\u001B[0m\u001B[1;33m\u001B[0m\u001B[1;33m\u001B[0m\u001B[0m\n\u001B[0m\u001B[0;32m    460\u001B[0m         \u001B[1;32mreturn\u001B[0m \u001B[0mconversion\u001B[0m\u001B[1;33m.\u001B[0m\u001B[0mget_conversion\u001B[0m\u001B[1;33m(\u001B[0m\u001B[1;33m)\u001B[0m\u001B[1;33m.\u001B[0m\u001B[0mrpy2py\u001B[0m\u001B[1;33m(\u001B[0m\u001B[0mres\u001B[0m\u001B[1;33m)\u001B[0m\u001B[1;33m\u001B[0m\u001B[1;33m\u001B[0m\u001B[0m\n",
      "\u001B[1;32mD:\\Programming\\BKIM\\venv\\lib\\site-packages\\rpy2\\robjects\\functions.py\u001B[0m in \u001B[0;36m__call__\u001B[1;34m(self, *args, **kwargs)\u001B[0m\n\u001B[0;32m    203\u001B[0m         return (super(SignatureTranslatedFunction, self)\n\u001B[1;32m--> 204\u001B[1;33m                 .__call__(*args, **kwargs))\n\u001B[0m\u001B[0;32m    205\u001B[0m \u001B[1;33m\u001B[0m\u001B[0m\n",
      "\u001B[1;32mD:\\Programming\\BKIM\\venv\\lib\\site-packages\\rpy2\\robjects\\functions.py\u001B[0m in \u001B[0;36m__call__\u001B[1;34m(self, *args, **kwargs)\u001B[0m\n\u001B[0;32m    125\u001B[0m                 \u001B[0mnew_kwargs\u001B[0m\u001B[1;33m[\u001B[0m\u001B[0mk\u001B[0m\u001B[1;33m]\u001B[0m \u001B[1;33m=\u001B[0m \u001B[0mcv\u001B[0m\u001B[1;33m.\u001B[0m\u001B[0mpy2rpy\u001B[0m\u001B[1;33m(\u001B[0m\u001B[0mv\u001B[0m\u001B[1;33m)\u001B[0m\u001B[1;33m\u001B[0m\u001B[1;33m\u001B[0m\u001B[0m\n\u001B[1;32m--> 126\u001B[1;33m         \u001B[0mres\u001B[0m \u001B[1;33m=\u001B[0m \u001B[0msuper\u001B[0m\u001B[1;33m(\u001B[0m\u001B[0mFunction\u001B[0m\u001B[1;33m,\u001B[0m \u001B[0mself\u001B[0m\u001B[1;33m)\u001B[0m\u001B[1;33m.\u001B[0m\u001B[0m__call__\u001B[0m\u001B[1;33m(\u001B[0m\u001B[1;33m*\u001B[0m\u001B[0mnew_args\u001B[0m\u001B[1;33m,\u001B[0m \u001B[1;33m**\u001B[0m\u001B[0mnew_kwargs\u001B[0m\u001B[1;33m)\u001B[0m\u001B[1;33m\u001B[0m\u001B[1;33m\u001B[0m\u001B[0m\n\u001B[0m\u001B[0;32m    127\u001B[0m         \u001B[0mres\u001B[0m \u001B[1;33m=\u001B[0m \u001B[0mcv\u001B[0m\u001B[1;33m.\u001B[0m\u001B[0mrpy2py\u001B[0m\u001B[1;33m(\u001B[0m\u001B[0mres\u001B[0m\u001B[1;33m)\u001B[0m\u001B[1;33m\u001B[0m\u001B[1;33m\u001B[0m\u001B[0m\n",
      "\u001B[1;32mD:\\Programming\\BKIM\\venv\\lib\\site-packages\\rpy2\\rinterface_lib\\conversion.py\u001B[0m in \u001B[0;36m_\u001B[1;34m(*args, **kwargs)\u001B[0m\n\u001B[0;32m     44\u001B[0m     \u001B[1;32mdef\u001B[0m \u001B[0m_\u001B[0m\u001B[1;33m(\u001B[0m\u001B[1;33m*\u001B[0m\u001B[0margs\u001B[0m\u001B[1;33m,\u001B[0m \u001B[1;33m**\u001B[0m\u001B[0mkwargs\u001B[0m\u001B[1;33m)\u001B[0m\u001B[1;33m:\u001B[0m\u001B[1;33m\u001B[0m\u001B[1;33m\u001B[0m\u001B[0m\n\u001B[1;32m---> 45\u001B[1;33m         \u001B[0mcdata\u001B[0m \u001B[1;33m=\u001B[0m \u001B[0mfunction\u001B[0m\u001B[1;33m(\u001B[0m\u001B[1;33m*\u001B[0m\u001B[0margs\u001B[0m\u001B[1;33m,\u001B[0m \u001B[1;33m**\u001B[0m\u001B[0mkwargs\u001B[0m\u001B[1;33m)\u001B[0m\u001B[1;33m\u001B[0m\u001B[1;33m\u001B[0m\u001B[0m\n\u001B[0m\u001B[0;32m     46\u001B[0m         \u001B[1;31m# TODO: test cdata is of the expected CType\u001B[0m\u001B[1;33m\u001B[0m\u001B[1;33m\u001B[0m\u001B[1;33m\u001B[0m\u001B[0m\n",
      "\u001B[1;32mD:\\Programming\\BKIM\\venv\\lib\\site-packages\\rpy2\\rinterface.py\u001B[0m in \u001B[0;36m__call__\u001B[1;34m(self, *args, **kwargs)\u001B[0m\n\u001B[0;32m    814\u001B[0m             \u001B[1;32mif\u001B[0m \u001B[0merror_occured\u001B[0m\u001B[1;33m[\u001B[0m\u001B[1;36m0\u001B[0m\u001B[1;33m]\u001B[0m\u001B[1;33m:\u001B[0m\u001B[1;33m\u001B[0m\u001B[1;33m\u001B[0m\u001B[0m\n\u001B[1;32m--> 815\u001B[1;33m                 \u001B[1;32mraise\u001B[0m \u001B[0membedded\u001B[0m\u001B[1;33m.\u001B[0m\u001B[0mRRuntimeError\u001B[0m\u001B[1;33m(\u001B[0m\u001B[0m_rinterface\u001B[0m\u001B[1;33m.\u001B[0m\u001B[0m_geterrmessage\u001B[0m\u001B[1;33m(\u001B[0m\u001B[1;33m)\u001B[0m\u001B[1;33m)\u001B[0m\u001B[1;33m\u001B[0m\u001B[1;33m\u001B[0m\u001B[0m\n\u001B[0m\u001B[0;32m    816\u001B[0m         \u001B[1;32mreturn\u001B[0m \u001B[0mres\u001B[0m\u001B[1;33m\u001B[0m\u001B[1;33m\u001B[0m\u001B[0m\n",
      "\u001B[1;31mRRuntimeError\u001B[0m: Error in plotHeatmap(sim) : could not find function \"plotHeatmap\"\n",
      "\nDuring handling of the above exception, another exception occurred:\n",
      "\u001B[1;31mRInterpreterError\u001B[0m                         Traceback (most recent call last)",
      "\u001B[1;32m~\\AppData\\Local\\Temp\\ipykernel_4520\\2020378184.py\u001B[0m in \u001B[0;36m<module>\u001B[1;34m\u001B[0m\n\u001B[1;32m----> 1\u001B[1;33m \u001B[0mget_ipython\u001B[0m\u001B[1;33m(\u001B[0m\u001B[1;33m)\u001B[0m\u001B[1;33m.\u001B[0m\u001B[0mrun_cell_magic\u001B[0m\u001B[1;33m(\u001B[0m\u001B[1;34m'R'\u001B[0m\u001B[1;33m,\u001B[0m \u001B[1;34m''\u001B[0m\u001B[1;33m,\u001B[0m \u001B[1;34m'library(splatter)\\nplotHeatmap(sim)\\n'\u001B[0m\u001B[1;33m)\u001B[0m\u001B[1;33m\u001B[0m\u001B[1;33m\u001B[0m\u001B[0m\n\u001B[0m",
      "\u001B[1;32mD:\\Programming\\BKIM\\venv\\lib\\site-packages\\IPython\\core\\interactiveshell.py\u001B[0m in \u001B[0;36mrun_cell_magic\u001B[1;34m(self, magic_name, line, cell)\u001B[0m\n\u001B[0;32m   2471\u001B[0m             \u001B[1;32mwith\u001B[0m \u001B[0mself\u001B[0m\u001B[1;33m.\u001B[0m\u001B[0mbuiltin_trap\u001B[0m\u001B[1;33m:\u001B[0m\u001B[1;33m\u001B[0m\u001B[1;33m\u001B[0m\u001B[0m\n\u001B[0;32m   2472\u001B[0m                 \u001B[0margs\u001B[0m \u001B[1;33m=\u001B[0m \u001B[1;33m(\u001B[0m\u001B[0mmagic_arg_s\u001B[0m\u001B[1;33m,\u001B[0m \u001B[0mcell\u001B[0m\u001B[1;33m)\u001B[0m\u001B[1;33m\u001B[0m\u001B[1;33m\u001B[0m\u001B[0m\n\u001B[1;32m-> 2473\u001B[1;33m                 \u001B[0mresult\u001B[0m \u001B[1;33m=\u001B[0m \u001B[0mfn\u001B[0m\u001B[1;33m(\u001B[0m\u001B[1;33m*\u001B[0m\u001B[0margs\u001B[0m\u001B[1;33m,\u001B[0m \u001B[1;33m**\u001B[0m\u001B[0mkwargs\u001B[0m\u001B[1;33m)\u001B[0m\u001B[1;33m\u001B[0m\u001B[1;33m\u001B[0m\u001B[0m\n\u001B[0m\u001B[0;32m   2474\u001B[0m             \u001B[1;32mreturn\u001B[0m \u001B[0mresult\u001B[0m\u001B[1;33m\u001B[0m\u001B[1;33m\u001B[0m\u001B[0m\n\u001B[0;32m   2475\u001B[0m \u001B[1;33m\u001B[0m\u001B[0m\n",
      "\u001B[1;32mD:\\Programming\\BKIM\\venv\\lib\\site-packages\\decorator.py\u001B[0m in \u001B[0;36mfun\u001B[1;34m(*args, **kw)\u001B[0m\n\u001B[0;32m    230\u001B[0m             \u001B[1;32mif\u001B[0m \u001B[1;32mnot\u001B[0m \u001B[0mkwsyntax\u001B[0m\u001B[1;33m:\u001B[0m\u001B[1;33m\u001B[0m\u001B[1;33m\u001B[0m\u001B[0m\n\u001B[0;32m    231\u001B[0m                 \u001B[0margs\u001B[0m\u001B[1;33m,\u001B[0m \u001B[0mkw\u001B[0m \u001B[1;33m=\u001B[0m \u001B[0mfix\u001B[0m\u001B[1;33m(\u001B[0m\u001B[0margs\u001B[0m\u001B[1;33m,\u001B[0m \u001B[0mkw\u001B[0m\u001B[1;33m,\u001B[0m \u001B[0msig\u001B[0m\u001B[1;33m)\u001B[0m\u001B[1;33m\u001B[0m\u001B[1;33m\u001B[0m\u001B[0m\n\u001B[1;32m--> 232\u001B[1;33m             \u001B[1;32mreturn\u001B[0m \u001B[0mcaller\u001B[0m\u001B[1;33m(\u001B[0m\u001B[0mfunc\u001B[0m\u001B[1;33m,\u001B[0m \u001B[1;33m*\u001B[0m\u001B[1;33m(\u001B[0m\u001B[0mextras\u001B[0m \u001B[1;33m+\u001B[0m \u001B[0margs\u001B[0m\u001B[1;33m)\u001B[0m\u001B[1;33m,\u001B[0m \u001B[1;33m**\u001B[0m\u001B[0mkw\u001B[0m\u001B[1;33m)\u001B[0m\u001B[1;33m\u001B[0m\u001B[1;33m\u001B[0m\u001B[0m\n\u001B[0m\u001B[0;32m    233\u001B[0m     \u001B[0mfun\u001B[0m\u001B[1;33m.\u001B[0m\u001B[0m__name__\u001B[0m \u001B[1;33m=\u001B[0m \u001B[0mfunc\u001B[0m\u001B[1;33m.\u001B[0m\u001B[0m__name__\u001B[0m\u001B[1;33m\u001B[0m\u001B[1;33m\u001B[0m\u001B[0m\n\u001B[0;32m    234\u001B[0m     \u001B[0mfun\u001B[0m\u001B[1;33m.\u001B[0m\u001B[0m__doc__\u001B[0m \u001B[1;33m=\u001B[0m \u001B[0mfunc\u001B[0m\u001B[1;33m.\u001B[0m\u001B[0m__doc__\u001B[0m\u001B[1;33m\u001B[0m\u001B[1;33m\u001B[0m\u001B[0m\n",
      "\u001B[1;32mD:\\Programming\\BKIM\\venv\\lib\\site-packages\\IPython\\core\\magic.py\u001B[0m in \u001B[0;36m<lambda>\u001B[1;34m(f, *a, **k)\u001B[0m\n\u001B[0;32m    185\u001B[0m     \u001B[1;31m# but it's overkill for just that one bit of state.\u001B[0m\u001B[1;33m\u001B[0m\u001B[1;33m\u001B[0m\u001B[1;33m\u001B[0m\u001B[0m\n\u001B[0;32m    186\u001B[0m     \u001B[1;32mdef\u001B[0m \u001B[0mmagic_deco\u001B[0m\u001B[1;33m(\u001B[0m\u001B[0marg\u001B[0m\u001B[1;33m)\u001B[0m\u001B[1;33m:\u001B[0m\u001B[1;33m\u001B[0m\u001B[1;33m\u001B[0m\u001B[0m\n\u001B[1;32m--> 187\u001B[1;33m         \u001B[0mcall\u001B[0m \u001B[1;33m=\u001B[0m \u001B[1;32mlambda\u001B[0m \u001B[0mf\u001B[0m\u001B[1;33m,\u001B[0m \u001B[1;33m*\u001B[0m\u001B[0ma\u001B[0m\u001B[1;33m,\u001B[0m \u001B[1;33m**\u001B[0m\u001B[0mk\u001B[0m\u001B[1;33m:\u001B[0m \u001B[0mf\u001B[0m\u001B[1;33m(\u001B[0m\u001B[1;33m*\u001B[0m\u001B[0ma\u001B[0m\u001B[1;33m,\u001B[0m \u001B[1;33m**\u001B[0m\u001B[0mk\u001B[0m\u001B[1;33m)\u001B[0m\u001B[1;33m\u001B[0m\u001B[1;33m\u001B[0m\u001B[0m\n\u001B[0m\u001B[0;32m    188\u001B[0m \u001B[1;33m\u001B[0m\u001B[0m\n\u001B[0;32m    189\u001B[0m         \u001B[1;32mif\u001B[0m \u001B[0mcallable\u001B[0m\u001B[1;33m(\u001B[0m\u001B[0marg\u001B[0m\u001B[1;33m)\u001B[0m\u001B[1;33m:\u001B[0m\u001B[1;33m\u001B[0m\u001B[1;33m\u001B[0m\u001B[0m\n",
      "\u001B[1;32mD:\\Programming\\BKIM\\venv\\lib\\site-packages\\rpy2\\ipython\\rmagic.py\u001B[0m in \u001B[0;36mR\u001B[1;34m(self, line, cell, local_ns)\u001B[0m\n\u001B[0;32m    866\u001B[0m             \u001B[1;32mif\u001B[0m \u001B[1;32mnot\u001B[0m \u001B[0me\u001B[0m\u001B[1;33m.\u001B[0m\u001B[0mstdout\u001B[0m\u001B[1;33m.\u001B[0m\u001B[0mendswith\u001B[0m\u001B[1;33m(\u001B[0m\u001B[0me\u001B[0m\u001B[1;33m.\u001B[0m\u001B[0merr\u001B[0m\u001B[1;33m)\u001B[0m\u001B[1;33m:\u001B[0m\u001B[1;33m\u001B[0m\u001B[1;33m\u001B[0m\u001B[0m\n\u001B[0;32m    867\u001B[0m                 \u001B[0mprint\u001B[0m\u001B[1;33m(\u001B[0m\u001B[0me\u001B[0m\u001B[1;33m.\u001B[0m\u001B[0merr\u001B[0m\u001B[1;33m)\u001B[0m\u001B[1;33m\u001B[0m\u001B[1;33m\u001B[0m\u001B[0m\n\u001B[1;32m--> 868\u001B[1;33m             \u001B[1;32mraise\u001B[0m \u001B[0me\u001B[0m\u001B[1;33m\u001B[0m\u001B[1;33m\u001B[0m\u001B[0m\n\u001B[0m\u001B[0;32m    869\u001B[0m         \u001B[1;32mfinally\u001B[0m\u001B[1;33m:\u001B[0m\u001B[1;33m\u001B[0m\u001B[1;33m\u001B[0m\u001B[0m\n\u001B[0;32m    870\u001B[0m             \u001B[1;32mif\u001B[0m \u001B[0mself\u001B[0m\u001B[1;33m.\u001B[0m\u001B[0mdevice\u001B[0m \u001B[1;32min\u001B[0m \u001B[1;33m[\u001B[0m\u001B[1;34m'png'\u001B[0m\u001B[1;33m,\u001B[0m \u001B[1;34m'svg'\u001B[0m\u001B[1;33m]\u001B[0m\u001B[1;33m:\u001B[0m\u001B[1;33m\u001B[0m\u001B[1;33m\u001B[0m\u001B[0m\n",
      "\u001B[1;32mD:\\Programming\\BKIM\\venv\\lib\\site-packages\\rpy2\\ipython\\rmagic.py\u001B[0m in \u001B[0;36mR\u001B[1;34m(self, line, cell, local_ns)\u001B[0m\n\u001B[0;32m    846\u001B[0m                     \u001B[0mreturn_output\u001B[0m \u001B[1;33m=\u001B[0m \u001B[1;32mFalse\u001B[0m\u001B[1;33m\u001B[0m\u001B[1;33m\u001B[0m\u001B[0m\n\u001B[0;32m    847\u001B[0m             \u001B[1;32melse\u001B[0m\u001B[1;33m:\u001B[0m\u001B[1;33m\u001B[0m\u001B[1;33m\u001B[0m\u001B[0m\n\u001B[1;32m--> 848\u001B[1;33m                 \u001B[0mtext_result\u001B[0m\u001B[1;33m,\u001B[0m \u001B[0mresult\u001B[0m\u001B[1;33m,\u001B[0m \u001B[0mvisible\u001B[0m \u001B[1;33m=\u001B[0m \u001B[0mself\u001B[0m\u001B[1;33m.\u001B[0m\u001B[0meval\u001B[0m\u001B[1;33m(\u001B[0m\u001B[0mcode\u001B[0m\u001B[1;33m)\u001B[0m\u001B[1;33m\u001B[0m\u001B[1;33m\u001B[0m\u001B[0m\n\u001B[0m\u001B[0;32m    849\u001B[0m                 \u001B[0mtext_output\u001B[0m \u001B[1;33m+=\u001B[0m \u001B[0mtext_result\u001B[0m\u001B[1;33m\u001B[0m\u001B[1;33m\u001B[0m\u001B[0m\n\u001B[0;32m    850\u001B[0m                 \u001B[1;32mif\u001B[0m \u001B[0mvisible\u001B[0m\u001B[1;33m:\u001B[0m\u001B[1;33m\u001B[0m\u001B[1;33m\u001B[0m\u001B[0m\n",
      "\u001B[1;32mD:\\Programming\\BKIM\\venv\\lib\\site-packages\\rpy2\\ipython\\rmagic.py\u001B[0m in \u001B[0;36meval\u001B[1;34m(self, code)\u001B[0m\n\u001B[0;32m    334\u001B[0m                 \u001B[0mwarning_or_other_msg\u001B[0m \u001B[1;33m=\u001B[0m \u001B[0mself\u001B[0m\u001B[1;33m.\u001B[0m\u001B[0mflush\u001B[0m\u001B[1;33m(\u001B[0m\u001B[1;33m)\u001B[0m\u001B[1;33m\u001B[0m\u001B[1;33m\u001B[0m\u001B[0m\n\u001B[0;32m    335\u001B[0m                 raise RInterpreterError(code, str(exception),\n\u001B[1;32m--> 336\u001B[1;33m                                         warning_or_other_msg)\n\u001B[0m\u001B[0;32m    337\u001B[0m             \u001B[0mtext_output\u001B[0m \u001B[1;33m=\u001B[0m \u001B[0mself\u001B[0m\u001B[1;33m.\u001B[0m\u001B[0mflush\u001B[0m\u001B[1;33m(\u001B[0m\u001B[1;33m)\u001B[0m\u001B[1;33m\u001B[0m\u001B[1;33m\u001B[0m\u001B[0m\n\u001B[0;32m    338\u001B[0m             \u001B[1;32mreturn\u001B[0m \u001B[0mtext_output\u001B[0m\u001B[1;33m,\u001B[0m \u001B[0mvalue\u001B[0m\u001B[1;33m,\u001B[0m \u001B[0mvisible\u001B[0m\u001B[1;33m[\u001B[0m\u001B[1;36m0\u001B[0m\u001B[1;33m]\u001B[0m\u001B[1;33m\u001B[0m\u001B[1;33m\u001B[0m\u001B[0m\n",
      "\u001B[1;31mRInterpreterError\u001B[0m: Failed to parse and evaluate line 'library(splatter)\\nplotHeatmap(sim)\\n'.\nR error message: 'Error in plotHeatmap(sim) : could not find function \"plotHeatmap\"'"
     ]
    }
   ],
   "source": [
    "%%R\n",
    "library(splatter)\n",
    "plotHeatmap(sim)"
   ],
   "metadata": {
    "collapsed": false,
    "pycharm": {
     "name": "#%%\n"
    }
   }
  },
  {
   "cell_type": "code",
   "execution_count": 6,
   "outputs": [],
   "source": [],
   "metadata": {
    "collapsed": false,
    "pycharm": {
     "name": "#%%\n"
    }
   }
  },
  {
   "cell_type": "markdown",
   "source": [
    "###1.3) Simulate and illustrates tSNE visualization of simulated scRNA-seq data with six cell types with the same mean and dropout rates as before."
   ],
   "metadata": {
    "id": "ogZWJ2op5qCs",
    "pycharm": {
     "name": "#%% md\n"
    }
   }
  },
  {
   "cell_type": "code",
   "source": [],
   "metadata": {
    "id": "ORFxUsdT5rLS",
    "pycharm": {
     "name": "#%%\n"
    }
   },
   "execution_count": 6,
   "outputs": []
  },
  {
   "cell_type": "markdown",
   "source": [
    "##2) Normalization\n",
    "\n",
    "###2.1) Apply log transform on the simulated data and plot the heatmap "
   ],
   "metadata": {
    "id": "uB4euiyELR_b",
    "pycharm": {
     "name": "#%% md\n"
    }
   }
  },
  {
   "cell_type": "code",
   "source": [],
   "metadata": {
    "id": "lE8q8iAYKxCd",
    "pycharm": {
     "name": "#%%\n"
    }
   },
   "execution_count": 6,
   "outputs": []
  },
  {
   "cell_type": "markdown",
   "source": [
    "###2.2) Normalize the simulated data using z-score and plot the heatmap\n"
   ],
   "metadata": {
    "id": "xzYIQfgGM7iP",
    "pycharm": {
     "name": "#%% md\n"
    }
   }
  },
  {
   "cell_type": "code",
   "source": [],
   "metadata": {
    "id": "Y51iotYRM6cQ",
    "pycharm": {
     "name": "#%%\n"
    }
   },
   "execution_count": 6,
   "outputs": []
  },
  {
   "cell_type": "markdown",
   "source": [
    "##3) Dimension reduction\n",
    "###3.1) Use PCA to reduce the data that was simuated in exercise 2.3 into two dimension."
   ],
   "metadata": {
    "id": "wVpn9EvT8rX8",
    "pycharm": {
     "name": "#%% md\n"
    }
   }
  },
  {
   "cell_type": "code",
   "source": [],
   "metadata": {
    "id": "kXcpZ_lX93Ru",
    "pycharm": {
     "name": "#%%\n"
    }
   },
   "execution_count": 6,
   "outputs": []
  },
  {
   "cell_type": "markdown",
   "source": [
    "\n",
    "###3.2) Plot the data in two diemension with different colors for dataset a and b. \n"
   ],
   "metadata": {
    "id": "FEw8Q00I96D0",
    "pycharm": {
     "name": "#%% md\n"
    }
   }
  },
  {
   "cell_type": "code",
   "source": [],
   "metadata": {
    "id": "s6wsKqPZMFIi",
    "pycharm": {
     "name": "#%%\n"
    }
   },
   "execution_count": 6,
   "outputs": []
  },
  {
   "cell_type": "markdown",
   "source": [
    "##4) Batch effetc\n",
    "###4.1) Simulated data with batch effetc and plot the pca dimension deruacion (in to two dim). Use following parameters:\n",
    "1. three groups with 1000,1500, 2500 samples\n",
    "2. from two cell type with frequency of 60% and 40%. \n",
    "\n",
    "you can use default values for the rest of parameters."
   ],
   "metadata": {
    "id": "gupsdAuBU_GH",
    "pycharm": {
     "name": "#%% md\n"
    }
   }
  },
  {
   "cell_type": "code",
   "source": [],
   "metadata": {
    "id": "m7o89t_vVddo",
    "pycharm": {
     "name": "#%%\n"
    }
   },
   "execution_count": 6,
   "outputs": []
  },
  {
   "cell_type": "code",
   "source": [],
   "metadata": {
    "id": "ung-FwyxjzdS",
    "pycharm": {
     "name": "#%%\n"
    }
   },
   "execution_count": 6,
   "outputs": []
  }
 ]
}