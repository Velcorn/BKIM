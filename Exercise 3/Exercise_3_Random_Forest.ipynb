{
  "nbformat": 4,
  "nbformat_minor": 0,
  "metadata": {
    "colab": {
      "provenance": []
    },
    "kernelspec": {
      "name": "python3",
      "display_name": "Python 3"
    },
    "language_info": {
      "name": "python"
    }
  },
  "cells": [
    {
      "cell_type": "markdown",
      "source": [
        "#Prequisites\n",
        "please install Python and required libraries for this exercise.\n",
        "\n",
        "**Install [sklearn](https://scikit-learn.org/) Library**\n",
        "\n",
        "\n",
        "```\n",
        "!pip3 install sklearn\n",
        "```"
      ],
      "metadata": {
        "id": "KMoAy_2-I64k"
      }
    },
    {
      "cell_type": "markdown",
      "source": [
        "# Preliminaries"
      ],
      "metadata": {
        "id": "KqgqCxquJnYD"
      }
    },
    {
      "cell_type": "code",
      "source": [
        "# Load scikit's random forest classifier library\n",
        "from sklearn.ensemble import RandomForestClassifier\n",
        "\n",
        "# Load pandas\n",
        "import pandas as pd\n",
        "\n",
        "# Load numpy\n",
        "import numpy as np"
      ],
      "metadata": {
        "id": "vbkdD3OtJkGz"
      },
      "execution_count": null,
      "outputs": []
    },
    {
      "cell_type": "markdown",
      "source": [
        "# Load Data"
      ],
      "metadata": {
        "id": "Z_HxJEwiKE9T"
      }
    },
    {
      "cell_type": "code",
      "source": [
        "# Load the data from microbiome file\n",
        "df = #TODO\n",
        "\n",
        "# View the top 5 rows\n",
        "df.head()"
      ],
      "metadata": {
        "id": "poVepp3wKIqY"
      },
      "execution_count": null,
      "outputs": []
    },
    {
      "cell_type": "code",
      "source": [
        "# Add a new column with the label name from microbiome_label file, this is what we are going to predict\n",
        "#TODO\n",
        "\n",
        "# View the top 5 rows\n",
        "df.head()"
      ],
      "metadata": {
        "id": "3s4vi-GZK9UZ"
      },
      "execution_count": null,
      "outputs": []
    },
    {
      "cell_type": "markdown",
      "source": [
        "# Create Training And Test Data"
      ],
      "metadata": {
        "id": "YIjmB4i2L14v"
      }
    },
    {
      "cell_type": "code",
      "source": [
        "# Split your data into train and test dataset (80% train and 20% test)\n",
        "#TODO"
      ],
      "metadata": {
        "id": "Pfqf-TZSL8VO"
      },
      "execution_count": null,
      "outputs": []
    },
    {
      "cell_type": "markdown",
      "source": [
        "# Train The Random Forest Classifier\n"
      ],
      "metadata": {
        "id": "qnlvV-d3MhVe"
      }
    },
    {
      "cell_type": "code",
      "source": [
        "# Create a random forest Classifier.\n",
        "clf = #TODO\n",
        "\n",
        "# Train the Classifier with the train dataset\n",
        "#TODO\n"
      ],
      "metadata": {
        "id": "Bp5fqv9dMnXq"
      },
      "execution_count": null,
      "outputs": []
    },
    {
      "cell_type": "markdown",
      "source": [
        "# Hyper Parameter Optimization"
      ],
      "metadata": {
        "id": "j0-lDQmYOf-C"
      }
    },
    {
      "cell_type": "code",
      "source": [
        "# Use grid search to find the optimum number of \"n_estimators\"\n",
        "#TODO"
      ],
      "metadata": {
        "id": "J5YTptI3Omx-"
      },
      "execution_count": null,
      "outputs": []
    },
    {
      "cell_type": "markdown",
      "source": [
        "# Apply Classifier To Test Data\n"
      ],
      "metadata": {
        "id": "eFW0Y_FENUtO"
      }
    },
    {
      "cell_type": "code",
      "source": [
        "# Apply the best Classifier you found to the test data (which, remember, it has never seen before)\n",
        "#TODO"
      ],
      "metadata": {
        "id": "9dKXEWJPNY_e"
      },
      "execution_count": null,
      "outputs": []
    },
    {
      "cell_type": "code",
      "source": [
        "# View the predicted probabilities instead of labels\n",
        "#TODO"
      ],
      "metadata": {
        "id": "0XCkomMINh2-"
      },
      "execution_count": null,
      "outputs": []
    },
    {
      "cell_type": "markdown",
      "source": [
        "# Evaluate Classifier\n"
      ],
      "metadata": {
        "id": "hq2WuL4gN_Hm"
      }
    },
    {
      "cell_type": "code",
      "source": [
        "# Calculate Accuracy Area under Curve and f1 score\n",
        "acc = #TODO\n",
        "auc = #TODO\n",
        "f1 = #TODO"
      ],
      "metadata": {
        "id": "r_lAMJrhOBsa"
      },
      "execution_count": null,
      "outputs": []
    }
  ]
}