{
  "cells": [
    {
      "cell_type": "markdown",
      "metadata": {
        "id": "oBdrxX7fIvPL"
      },
      "source": [
        "#Prequisites\n",
        "please install Python and required libraries for this exercise.\n",
        "\n",
        "**Install [PyTorch](https://pytorch.org/) Library**\n",
        "\n",
        "\n",
        "```\n",
        "!pip3 install torch torchvision torchaudio --extra-index-url https://download.pytorch.org/whl/cpu\n",
        "```\n",
        "\n",
        "**Import libraries**\n",
        "\n",
        "\n",
        "```\n",
        "import torch\n",
        "import torch.nn as nn\n",
        "import torch.nn.functional as F\n",
        "from torchvision import datasets, transforms\n",
        "```\n",
        "Enable in-line plotting for notebooks\n",
        "%matplotlib inline\n",
        "## Data\n",
        "\n",
        "For this exercise we simulate Single Cell RNA sequence data using [Splatter package in R](https://genomebiology.biomedcentral.com/articles/10.1186/s13059-017-1305-0) which is publically available. \n",
        "\n",
        "First, one need to start `rmagic` by executing this in a cell:\n",
        "\n",
        "```\n",
        "%load_ext rpy2.ipython\n",
        "```\n",
        "And install rpy2 package in Python. If it asked for restarting the runtime, from Runtime menu choose `Restart runtime`\n",
        "\n",
        "\n",
        "Use %%R to execute cell magic. Use this if you want all syntax in a cell to be executed in R. Note that this must be placed at the beginning of the cell. install bioconductor:\n",
        "%%R\n",
        "```\n",
        "# sim <- splatSimulate(params, mean.rate = 0.6, out.prob = 0.2)\n",
        "if (!require(\"BiocManager\", quietly = TRUE))\n",
        "    install.packages(\"BiocManager\")\n",
        "BiocManager::install(version = \"3.15\")\n",
        "```\n",
        "install splatter\n",
        "```\n",
        "%%R\n",
        "BiocManager::install(\"splatter\")\n",
        "```"
      ]
    },
    {
      "cell_type": "markdown",
      "metadata": {},
      "source": [
        "## 1)Pre-processing\n",
        "### 1.1) Simulate 5000 samples with 2000 genes from two cell types and load the samples in Torch tensors and provide a DataLoader.\n",
        "For example, this code loads MNIST dataset\n",
        "\n",
        "\n",
        "```\n",
        "batch_size = 32\n",
        "\n",
        "train_dataset = datasets.MNIST('./data', \n",
        "                               train=True, \n",
        "                               download=True, \n",
        "                               transform=transforms.ToTensor())\n",
        "\n",
        "validation_dataset = datasets.MNIST('./data', \n",
        "                                    train=False, \n",
        "                                    transform=transforms.ToTensor())\n",
        "\n",
        "train_loader = torch.utils.data.DataLoader(dataset=train_dataset, \n",
        "                                           batch_size=batch_size, \n",
        "                                           shuffle=True)\n",
        "\n",
        "validation_loader = torch.utils.data.DataLoader(dataset=validation_dataset, \n",
        "                                                batch_size=batch_size, \n",
        "                                                shuffle=False)\n",
        "```"
      ]
    },
    {
      "cell_type": "code",
      "execution_count": null,
      "metadata": {},
      "outputs": [],
      "source": []
    },
    {
      "cell_type": "markdown",
      "metadata": {
        "id": "5TW5ifb3KJDI"
      },
      "source": [
        "### 1.2) Normalized samples using z-score normalization and plot them beside raw samples"
      ]
    },
    {
      "cell_type": "code",
      "execution_count": null,
      "metadata": {
        "id": "DV3k35kgIrqG"
      },
      "outputs": [],
      "source": []
    },
    {
      "cell_type": "markdown",
      "metadata": {
        "id": "uB4euiyELR_b"
      },
      "source": [
        "## 2) Train a MLP on the data to classify rna samples into one of the two cell types.\n",
        "\n",
        "### 2.1) implement following MLP model in sequential fashion.\n",
        "\n",
        "\n",
        "```\n",
        "class Net(nn.Module):\n",
        "    def __init__(self):\n",
        "        super(Net, self).__init__()\n",
        "        self.fc1 = nn.Linear(28*28, 50)\n",
        "        self.fc1_drop = nn.Dropout(0.2)\n",
        "        self.fc2 = nn.Linear(50, 50)\n",
        "        self.fc2_drop = nn.Dropout(0.2)\n",
        "        self.fc3 = nn.Linear(50, 10)\n",
        "\n",
        "    def forward(self, x):\n",
        "        x = x.view(-1, 28*28)\n",
        "        x = F.relu(self.fc1(x))\n",
        "        x = self.fc1_drop(x)\n",
        "        x = F.relu(self.fc2(x))\n",
        "        x = self.fc2_drop(x)\n",
        "        return F.log_softmax(self.fc3(x), dim=1)\n",
        "```\n",
        "\n"
      ]
    },
    {
      "cell_type": "code",
      "execution_count": null,
      "metadata": {
        "id": "lE8q8iAYKxCd"
      },
      "outputs": [],
      "source": []
    },
    {
      "cell_type": "markdown",
      "metadata": {
        "id": "xzYIQfgGM7iP"
      },
      "source": [
        "### 2.2) Instantiate (and name) the MLP model as `model`, Stochastic Gradient Descent optimizer as `optimizer` and Cross entropy loss as `criterion`. \n"
      ]
    },
    {
      "cell_type": "code",
      "execution_count": null,
      "metadata": {
        "id": "Y51iotYRM6cQ"
      },
      "outputs": [],
      "source": []
    },
    {
      "cell_type": "markdown",
      "metadata": {
        "id": "7HacTu3vL2P1"
      },
      "source": [
        "### 2.3) Fix the bug/s of the train method\n",
        "\n",
        "\n",
        "\n",
        "```\n",
        "def train(epoch, log_interval=200):\n",
        "    # Set model to training mode\n",
        "    model.train()\n",
        "    \n",
        "    # Loop over each batch from the training set\n",
        "    for batch_idx, (data, target) in enumerate(train_loader):\n",
        "        output = model(data)\n",
        "        loss = criterion(output, target)\n",
        "        loss.backward()\n",
        "        optimizer.step()\n",
        "        \n",
        "```\n"
      ]
    },
    {
      "cell_type": "code",
      "execution_count": null,
      "metadata": {
        "id": "s6wsKqPZMFIi"
      },
      "outputs": [],
      "source": []
    },
    {
      "cell_type": "markdown",
      "metadata": {
        "id": "gupsdAuBU_GH"
      },
      "source": [
        "## 3) Evaluation\n",
        "### 3.1) Change the previous codes to calculate test and train loss."
      ]
    },
    {
      "cell_type": "code",
      "execution_count": null,
      "metadata": {
        "id": "m7o89t_vVddo"
      },
      "outputs": [],
      "source": []
    },
    {
      "cell_type": "markdown",
      "metadata": {
        "id": "5T67Pjb6Vfog"
      },
      "source": [
        "### 3.2) Change the previous codes to calculate Accuracy, specificity, sensitivity, and AUC for test set."
      ]
    },
    {
      "cell_type": "code",
      "execution_count": null,
      "metadata": {
        "id": "oODTFaljWRBy"
      },
      "outputs": [],
      "source": []
    }
  ],
  "metadata": {
    "colab": {
      "provenance": []
    },
    "kernelspec": {
      "display_name": "Python 3",
      "name": "python3"
    },
    "language_info": {
      "name": "python"
    }
  },
  "nbformat": 4,
  "nbformat_minor": 0
}
