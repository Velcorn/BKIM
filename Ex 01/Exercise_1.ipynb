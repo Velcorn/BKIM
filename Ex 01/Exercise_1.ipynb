{
 "nbformat": 4,
 "nbformat_minor": 0,
 "metadata": {
  "colab": {
   "provenance": [],
   "collapsed_sections": []
  },
  "kernelspec": {
   "name": "python3",
   "display_name": "Python 3"
  },
  "language_info": {
   "name": "python"
  }
 },
 "cells": [
  {
   "cell_type": "markdown",
   "source": [
    "**Working with Genbank files**\n",
    "\n",
    "You can find more information about what it is in the below link:\n",
    "\n",
    "https://en.wikipedia.org/wiki/GenBank"
   ],
   "metadata": {
    "id": "CrQzzQv8ju-P"
   }
  },
  {
   "cell_type": "markdown",
   "source": [
    "Write python codes using biopython package that reads a genbank file given in input and prints off \n",
    "the following information"
   ],
   "metadata": {
    "id": "9PIpe1tY5jrV"
   }
  },
  {
   "cell_type": "code",
   "source": [
    "%pip install biopython "
   ],
   "metadata": {
    "id": "_lUNSgf5hh3W"
   },
   "execution_count": 1,
   "outputs": [
    {
     "name": "stdout",
     "output_type": "stream",
     "text": [
      "Collecting biopython\r\n",
      "  Downloading biopython-1.79.tar.gz (16.7 MB)\r\n",
      "     |████████████████████████████████| 16.7 MB 342 kB/s             \r\n",
      "\u001B[?25h  Preparing metadata (setup.py) ... \u001B[?25ldone\r\n",
      "\u001B[?25hRequirement already satisfied: numpy in /Library/Frameworks/Python.framework/Versions/3.8/lib/python3.8/site-packages (from biopython) (1.22.2)\r\n",
      "Building wheels for collected packages: biopython\r\n",
      "  Building wheel for biopython (setup.py) ... \u001B[?25ldone\r\n",
      "\u001B[?25h  Created wheel for biopython: filename=biopython-1.79-cp38-cp38-macosx_11_0_universal2.whl size=2414719 sha256=683794f5b1b54d40fa9cc07c0b2c2eae372fb7277e76fb61a57540195265edb3\r\n",
      "  Stored in directory: /Users/velcorn/Library/Caches/pip/wheels/92/d3/a0/14b5fccd5d5b31e110d2ac6594f624eb5468569d2cb49d2ac1\r\n",
      "Successfully built biopython\r\n",
      "Installing collected packages: biopython\r\n",
      "Successfully installed biopython-1.79\r\n",
      "\u001B[33mWARNING: You are using pip version 21.3.1; however, version 22.3.1 is available.\r\n",
      "You should consider upgrading via the '/Users/velcorn/Programming/BKIM/venv/bin/python -m pip install --upgrade pip' command.\u001B[0m\r\n",
      "Note: you may need to restart the kernel to use updated packages.\n"
     ]
    }
   ]
  },
  {
   "cell_type": "markdown",
   "source": [
    "Import biopython and read the file a store it in a variable.\n",
    "\n",
    "You can check this https://www.ncbi.nlm.nih.gov/genbank/ website and choose whatever you want and store it in a file then use it in your code\n",
    "\n",
    "e.g. https://www.ncbi.nlm.nih.gov/nuccore/AB026718.1"
   ],
   "metadata": {
    "id": "h_G0a6S6WgP9"
   }
  },
  {
   "cell_type": "code",
   "execution_count": null,
   "outputs": [],
   "source": [
    "from Bio import SeqIO\n",
    "file = 'AB026718.1.gbk'\n",
    "content = SeqIO.read(file, 'genbank')"
   ],
   "metadata": {
    "collapsed": false
   }
  },
  {
   "cell_type": "code",
   "source": [],
   "metadata": {
    "id": "bGDTB5ZJWpK5"
   },
   "execution_count": null,
   "outputs": []
  },
  {
   "cell_type": "markdown",
   "source": [
    "1. Print identifier, name and description of the sequence"
   ],
   "metadata": {
    "id": "VD6tokPP5xgV"
   }
  },
  {
   "cell_type": "code",
   "execution_count": null,
   "outputs": [],
   "source": [
    "print(content)"
   ],
   "metadata": {
    "collapsed": false
   }
  },
  {
   "cell_type": "code",
   "source": [],
   "metadata": {
    "id": "8Re-gu2-O3eh"
   },
   "execution_count": null,
   "outputs": []
  },
  {
   "cell_type": "markdown",
   "source": [
    "2. Print the first 100 characters of the sequence"
   ],
   "metadata": {
    "id": "0aVkD1Hc56Ve"
   }
  },
  {
   "cell_type": "code",
   "source": [],
   "metadata": {
    "id": "8665pdBE56i6"
   },
   "execution_count": null,
   "outputs": []
  },
  {
   "cell_type": "markdown",
   "source": [
    "3. Print number of external references (dbxrefs) and ids of the external references."
   ],
   "metadata": {
    "id": "ULdihqS_56t7"
   }
  },
  {
   "cell_type": "code",
   "source": [],
   "metadata": {
    "id": "brWv5xRu5627"
   },
   "execution_count": null,
   "outputs": []
  },
  {
   "cell_type": "markdown",
   "source": [
    "4. Print the name of the organism (hint: check the annotations dictionary at the key “organism”)"
   ],
   "metadata": {
    "id": "BMkr3AuT56_2"
   }
  },
  {
   "cell_type": "code",
   "source": [],
   "metadata": {
    "id": "Hg9kmkIt57J6"
   },
   "execution_count": null,
   "outputs": []
  },
  {
   "cell_type": "markdown",
   "source": [
    "5. Retrieve and print all (if any) associated publications (hint: annotation dictionary, key:”references”)"
   ],
   "metadata": {
    "id": "DDI4_j8w57Ry"
   }
  },
  {
   "cell_type": "code",
   "source": [],
   "metadata": {
    "id": "PuSQiXZC57do"
   },
   "execution_count": null,
   "outputs": []
  },
  {
   "cell_type": "markdown",
   "source": [
    "6. Retrieve and print all the locations of “CDS” features of the sequence (hint: check the features )\n",
    "\n"
   ],
   "metadata": {
    "id": "X3Hpm7_26oYu"
   }
  },
  {
   "cell_type": "code",
   "source": [],
   "metadata": {
    "id": "o_3lIHHI6onV"
   },
   "execution_count": null,
   "outputs": []
  }
 ]
}
