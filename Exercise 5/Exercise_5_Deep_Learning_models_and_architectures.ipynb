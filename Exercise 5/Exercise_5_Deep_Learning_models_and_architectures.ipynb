{
 "nbformat": 4,
 "nbformat_minor": 0,
 "metadata": {
  "colab": {
   "provenance": []
  },
  "kernelspec": {
   "name": "python3",
   "display_name": "Python 3"
  },
  "language_info": {
   "name": "python"
  }
 },
 "cells": [
  {
   "cell_type": "markdown",
   "source": [
    "#Prequisites\n",
    "please install Python and required libraries for this exercise.\n",
    "\n",
    "**Install [PyTorch](https://pytorch.org/) Library**\n",
    "\n",
    "\n",
    "```\n",
    "!pip3 install torch torchvision torchaudio --extra-index-url https://download.pytorch.org/whl/cpu\n",
    "```\n",
    "\n",
    "**Import libraries**\n",
    "\n",
    "\n",
    "```\n",
    "import torch\n",
    "import torch.nn as nn\n",
    "import torch.nn.functional as F\n",
    "from torchvision import datasets, transforms\n",
    "```\n",
    "Enable in-line plotting for notebooks\n",
    "%matplotlib inline\n",
    "## Data\n",
    "\n",
    "For this exercise we simulate Single Cell RNA sequence data using [Splatter package in R](https://genomebiology.biomedcentral.com/articles/10.1186/s13059-017-1305-0) which is publically available. \n",
    "\n",
    "First, one need to start `rmagic` by executing this in a cell:\n",
    "\n",
    "```\n",
    "%load_ext rpy2.ipython\n",
    "```\n",
    "\n",
    "And install rpy2 package in Python. If it asked for restarting the runtime, from Runtime menu choose `Restart runtime`\n",
    "\n",
    "\n",
    "Use %%R to execute cell magic. Use this if you want all syntax in a cell to be executed in R. Note that this must be placed at the beginning of the cell. install bioconductor:\n",
    "\n",
    "```\n",
    "%%R\n",
    "if (!require(\"BiocManager\", quietly = TRUE))\n",
    "    install.packages(\"BiocManager\")\n",
    "BiocManager::install(version = \"3.15\")\n",
    "```\n",
    "install splatter\n",
    "```\n",
    "%%R\n",
    "BiocManager::install(\"splatter\")\n",
    "```\n",
    "\n",
    "\n",
    "##1)Pre-processing\n",
    "###1.1) Simulate 5000 samples with 2000 genes from six cell types, with the ratio of 5, 10, 10, 20, 25, 30 (fairly imbalanced), and load the samples in Torch tensors.\n",
    "Please use values for other parameters in a way that simplifies the data.\n",
    "\n"
   ],
   "metadata": {
    "id": "oBdrxX7fIvPL",
    "pycharm": {
     "name": "#%% md\n"
    }
   }
  },
  {
   "cell_type": "code",
   "source": [],
   "metadata": {
    "id": "uP2cwOtI-wbp",
    "pycharm": {
     "name": "#%%\n"
    }
   },
   "execution_count": null,
   "outputs": []
  },
  {
   "cell_type": "markdown",
   "source": [
    "##2) Use the model in exercise 4 on the data to classify RNA samples into one of the six cell types. Split the data to train and test sets with a proportionate number of samples in the train and train set. \n",
    "2.1) Tarin the model using SGD, Cross entropy loss\n",
    "\n",
    "Please remember to load the data loader, instantiate the model, optimizer, and loss, and implement the training loop. Please use enough number epochs and proper batch-size, and learning rate to improve the model convergence.\n",
    "Please calculate test and train loss and accuracy. Also, calculate the test AUC."
   ],
   "metadata": {
    "id": "uB4euiyELR_b",
    "pycharm": {
     "name": "#%% md\n"
    }
   }
  },
  {
   "cell_type": "code",
   "source": [],
   "metadata": {
    "id": "lE8q8iAYKxCd",
    "pycharm": {
     "name": "#%%\n"
    }
   },
   "execution_count": null,
   "outputs": []
  },
  {
   "cell_type": "markdown",
   "source": [
    "###2.2) Try to run the same model with Focal Loss to tackle the data imbalancedness. \n",
    "Please compare the results with the 2.1 results to show the impact of using focal loss on tackling data imbalancedness."
   ],
   "metadata": {
    "id": "xzYIQfgGM7iP",
    "pycharm": {
     "name": "#%% md\n"
    }
   }
  },
  {
   "cell_type": "code",
   "source": [],
   "metadata": {
    "id": "s6wsKqPZMFIi",
    "pycharm": {
     "name": "#%%\n"
    }
   },
   "execution_count": null,
   "outputs": []
  },
  {
   "cell_type": "markdown",
   "source": [
    "##3) Tackle over-fitting\n",
    "###3.1) Use [Batch normalization layers](https://pytorch.org/docs/stable/generated/torch.nn.BatchNorm1d.html) to improve the results. Compare the results with previous ones.\n",
    "\n",
    "For comparison, please draw AUC curve changes during different epochs (three curves for 2.1, 2.2, and 3.1)"
   ],
   "metadata": {
    "id": "gupsdAuBU_GH",
    "pycharm": {
     "name": "#%% md\n"
    }
   }
  },
  {
   "cell_type": "code",
   "source": [],
   "metadata": {
    "id": "m7o89t_vVddo",
    "pycharm": {
     "name": "#%%\n"
    }
   },
   "execution_count": null,
   "outputs": []
  },
  {
   "cell_type": "markdown",
   "source": [
    "##4) Improve the results **(Bonus)**\n",
    "###4.1) Use the internet resources to further improve the results by changing layers, architecture, optimizer, etc."
   ],
   "metadata": {
    "id": "ScpmGp4aUCye",
    "pycharm": {
     "name": "#%% md\n"
    }
   }
  },
  {
   "cell_type": "code",
   "source": [],
   "metadata": {
    "id": "E6gCBCRvUiSS",
    "pycharm": {
     "name": "#%%\n"
    }
   },
   "execution_count": null,
   "outputs": []
  }
 ]
}